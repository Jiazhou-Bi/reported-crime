{
 "cells": [
  {
   "cell_type": "markdown",
   "metadata": {},
   "source": [
    "# Preamble:\n",
    "\n",
    "Purpose: Cleans the marriage data to create an analysis dataset.\n",
    "\n",
    "Author: Justin(Jiazhou) Bi\n",
    "\n",
    "Date: 23 September 2024\n",
    "\n",
    "Contact: justin.bi@mail.utoronto.ca\n",
    "\n",
    "Pre-requisites: Raw data available for download in notebook: 01-download_data.ipynb"
   ]
  },
  {
   "cell_type": "code",
   "execution_count": 36,
   "metadata": {},
   "outputs": [],
   "source": [
    "# Loading necessary packages\n",
    "import pandas as pd"
   ]
  },
  {
   "cell_type": "code",
   "execution_count": 37,
   "metadata": {},
   "outputs": [
    {
     "name": "stdout",
     "output_type": "stream",
     "text": [
      "         _id  REPORT_YEAR DIVISION                        CATEGORY  \\\n",
      "0          1         2022      D32         Crimes Against Property   \n",
      "1          2         2023      D12         Crimes Against Property   \n",
      "2          3         2014      D13         Crimes Against Property   \n",
      "3          4         2021      NSA       Crimes Against the Person   \n",
      "4          5         2020      D53         Crimes Against Property   \n",
      "...      ...          ...      ...                             ...   \n",
      "36878  36879         2017      D55       Crimes Against the Person   \n",
      "36879  36880         2022      D32       Crimes Against the Person   \n",
      "36880  36881         2014      D51  Other Criminal Code Violations   \n",
      "36881  36882         2014      D43         Crimes Against Property   \n",
      "36882  36883         2023      D31         Crimes Against Property   \n",
      "\n",
      "                                             SUBTYPE  COUNT_  COUNT_CLEARED  \n",
      "0                                         Auto Theft      79              0  \n",
      "1                                Break & Enter-House       1              0  \n",
      "2                                         Auto Theft       7              0  \n",
      "3                                   Sexual Violation       1              0  \n",
      "4                            Break & Enter-Apartment       2              0  \n",
      "...                                              ...     ...            ...  \n",
      "36878                                        Assault      35             25  \n",
      "36879                                          Other       9              4  \n",
      "36880  Other Criminal Violations - Offensive Weapons       5              4  \n",
      "36881                                     Auto Theft       2              1  \n",
      "36882                                     Auto Theft     122              1  \n",
      "\n",
      "[36883 rows x 7 columns]\n"
     ]
    }
   ],
   "source": [
    "# path = 'data/raw_data/raw_data.csv'\n",
    "df = pd.read_csv('/Users/jiazhoubi/Desktop/UT MI/INF 3104/reported-crime/data/raw_data/raw_data.csv')\n",
    "print(df)"
   ]
  },
  {
   "cell_type": "code",
   "execution_count": 38,
   "metadata": {},
   "outputs": [
    {
     "name": "stdout",
     "output_type": "stream",
     "text": [
      "       REPORT_YEAR                        CATEGORY  \\\n",
      "0             2022         Crimes Against Property   \n",
      "1             2023         Crimes Against Property   \n",
      "2             2014         Crimes Against Property   \n",
      "3             2021       Crimes Against the Person   \n",
      "4             2020         Crimes Against Property   \n",
      "...            ...                             ...   \n",
      "36878         2017       Crimes Against the Person   \n",
      "36879         2022       Crimes Against the Person   \n",
      "36880         2014  Other Criminal Code Violations   \n",
      "36881         2014         Crimes Against Property   \n",
      "36882         2023         Crimes Against Property   \n",
      "\n",
      "                                             SUBTYPE  COUNT_  COUNT_CLEARED  \n",
      "0                                         Auto Theft      79              0  \n",
      "1                                Break & Enter-House       1              0  \n",
      "2                                         Auto Theft       7              0  \n",
      "3                                   Sexual Violation       1              0  \n",
      "4                            Break & Enter-Apartment       2              0  \n",
      "...                                              ...     ...            ...  \n",
      "36878                                        Assault      35             25  \n",
      "36879                                          Other       9              4  \n",
      "36880  Other Criminal Violations - Offensive Weapons       5              4  \n",
      "36881                                     Auto Theft       2              1  \n",
      "36882                                     Auto Theft     122              1  \n",
      "\n",
      "[36883 rows x 5 columns]\n"
     ]
    }
   ],
   "source": [
    "# Removing the id column that is not required for our data analysis\n",
    "df = df.drop(columns=['_id','DIVISION'])\n",
    "print(df)"
   ]
  },
  {
   "cell_type": "code",
   "execution_count": 39,
   "metadata": {},
   "outputs": [
    {
     "name": "stdout",
     "output_type": "stream",
     "text": [
      "REPORT_YEAR      0\n",
      "CATEGORY         0\n",
      "SUBTYPE          0\n",
      "COUNT_           0\n",
      "COUNT_CLEARED    0\n",
      "dtype: int64\n"
     ]
    }
   ],
   "source": [
    "# Checking if there are any missing values in the DataFrame\n",
    "missing_values = df.isna().sum()\n",
    "print(missing_values)"
   ]
  },
  {
   "cell_type": "code",
   "execution_count": 40,
   "metadata": {},
   "outputs": [],
   "source": [
    "# Renaming the column to make the formatting more consistent\n",
    "df = df.rename(columns = {'COUNT_':'COUNT'})"
   ]
  },
  {
   "cell_type": "code",
   "execution_count": 41,
   "metadata": {},
   "outputs": [
    {
     "data": {
      "text/html": [
       "<div>\n",
       "<style scoped>\n",
       "    .dataframe tbody tr th:only-of-type {\n",
       "        vertical-align: middle;\n",
       "    }\n",
       "\n",
       "    .dataframe tbody tr th {\n",
       "        vertical-align: top;\n",
       "    }\n",
       "\n",
       "    .dataframe thead th {\n",
       "        text-align: right;\n",
       "    }\n",
       "</style>\n",
       "<table border=\"1\" class=\"dataframe\">\n",
       "  <thead>\n",
       "    <tr style=\"text-align: right;\">\n",
       "      <th></th>\n",
       "      <th>REPORT_YEAR</th>\n",
       "      <th>CATEGORY</th>\n",
       "      <th>SUBTYPE</th>\n",
       "      <th>COUNT</th>\n",
       "      <th>COUNT_CLEARED</th>\n",
       "      <th>CASE_CLEARING_RATE</th>\n",
       "    </tr>\n",
       "  </thead>\n",
       "  <tbody>\n",
       "    <tr>\n",
       "      <th>0</th>\n",
       "      <td>2022</td>\n",
       "      <td>Crimes Against Property</td>\n",
       "      <td>Auto Theft</td>\n",
       "      <td>79</td>\n",
       "      <td>0</td>\n",
       "      <td>0.0</td>\n",
       "    </tr>\n",
       "    <tr>\n",
       "      <th>1</th>\n",
       "      <td>2023</td>\n",
       "      <td>Crimes Against Property</td>\n",
       "      <td>Break &amp; Enter-House</td>\n",
       "      <td>1</td>\n",
       "      <td>0</td>\n",
       "      <td>0.0</td>\n",
       "    </tr>\n",
       "    <tr>\n",
       "      <th>2</th>\n",
       "      <td>2014</td>\n",
       "      <td>Crimes Against Property</td>\n",
       "      <td>Auto Theft</td>\n",
       "      <td>7</td>\n",
       "      <td>0</td>\n",
       "      <td>0.0</td>\n",
       "    </tr>\n",
       "    <tr>\n",
       "      <th>3</th>\n",
       "      <td>2021</td>\n",
       "      <td>Crimes Against the Person</td>\n",
       "      <td>Sexual Violation</td>\n",
       "      <td>1</td>\n",
       "      <td>0</td>\n",
       "      <td>0.0</td>\n",
       "    </tr>\n",
       "    <tr>\n",
       "      <th>4</th>\n",
       "      <td>2020</td>\n",
       "      <td>Crimes Against Property</td>\n",
       "      <td>Break &amp; Enter-Apartment</td>\n",
       "      <td>2</td>\n",
       "      <td>0</td>\n",
       "      <td>0.0</td>\n",
       "    </tr>\n",
       "  </tbody>\n",
       "</table>\n",
       "</div>"
      ],
      "text/plain": [
       "   REPORT_YEAR                   CATEGORY                  SUBTYPE  COUNT  \\\n",
       "0         2022    Crimes Against Property               Auto Theft     79   \n",
       "1         2023    Crimes Against Property      Break & Enter-House      1   \n",
       "2         2014    Crimes Against Property               Auto Theft      7   \n",
       "3         2021  Crimes Against the Person         Sexual Violation      1   \n",
       "4         2020    Crimes Against Property  Break & Enter-Apartment      2   \n",
       "\n",
       "   COUNT_CLEARED  CASE_CLEARING_RATE  \n",
       "0              0                 0.0  \n",
       "1              0                 0.0  \n",
       "2              0                 0.0  \n",
       "3              0                 0.0  \n",
       "4              0                 0.0  "
      ]
     },
     "execution_count": 41,
     "metadata": {},
     "output_type": "execute_result"
    }
   ],
   "source": [
    "# Calculating the clearing rate for the report cases\n",
    "df['CASE_CLEARING_RATE'] = df['COUNT_CLEARED']/df['COUNT']\n",
    "df.head()"
   ]
  },
  {
   "cell_type": "code",
   "execution_count": 42,
   "metadata": {},
   "outputs": [],
   "source": [
    "# Saving the cleaned DataFrame into a csv file for future reference\n",
    "df.to_csv('/Users/jiazhoubi/Desktop/UT MI/INF 3104/reported-crime/data/analysis_data/analysis_data.csv', index=False)"
   ]
  }
 ],
 "metadata": {
  "kernelspec": {
   "display_name": "Python 3",
   "language": "python",
   "name": "python3"
  },
  "language_info": {
   "codemirror_mode": {
    "name": "ipython",
    "version": 3
   },
   "file_extension": ".py",
   "mimetype": "text/x-python",
   "name": "python",
   "nbconvert_exporter": "python",
   "pygments_lexer": "ipython3",
   "version": "3.10.5"
  }
 },
 "nbformat": 4,
 "nbformat_minor": 2
}
